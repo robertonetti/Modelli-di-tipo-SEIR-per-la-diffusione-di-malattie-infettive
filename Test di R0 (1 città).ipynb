{
 "cells": [
  {
   "cell_type": "markdown",
   "metadata": {},
   "source": [
    "# Verifica $R_0$ modello *RUIYUN LI*"
   ]
  },
  {
   "cell_type": "markdown",
   "metadata": {},
   "source": [
    "Introduciamo il modello:\n",
    "\\begin{align}\n",
    "\\begin{cases}\n",
    "\\dot{S_i} = - \\frac{ \\beta S_i I_{i}^r }{N_i} - \\frac{ \\mu \\beta S_i I_{i}^u }{N_i}  \\\\\n",
    "\\dot{E_i} = \\frac{\\beta S_i I_{i}^r}{N_i} + \\frac{\\mu \\beta S_i I_{i}^u}{N_i} - \\frac{E_i}{Z}  \\\\\n",
    "\\dot{I_{i}^r} = \\alpha \\frac{E_i}{Z} - \\frac{I_{i}^r}{D} \\\\\n",
    "\\dot{I_{i}^u} = (1-\\alpha) \\frac{E_i}{Z} - \\frac{I_{i}^u}{D}  \\\\\n",
    "N_i = N_0\n",
    "\\end{cases}\n",
    "\\end{align}"
   ]
  },
  {
   "cell_type": "markdown",
   "metadata": {},
   "source": [
    "$\\beta$ = rate di trasmissione; \n",
    "\n",
    "$\\mu$ = riduzione del rate di trasmissione dovuto ai casi non documentati;\n",
    "\n",
    "$\\alpha$ = frazione di infezioni documentate;\n",
    "\n",
    "$Z$ = periodo medio di latenza;\n",
    "\n",
    "$D$ = durata media dell'infezione;\n",
    "\n",
    "$R_n = \\alpha \\beta D +(1-\\alpha)\\mu \\beta D$ =  *effective reproduction number* ;\n",
    "\n",
    "$M_{ij}$ = numero giornaliero di persone che si muovono dalla città *i* alla città *j* ;\n",
    "\n",
    "$\\theta$ = fattore $>1$ che riflette una sotto-stima dei movimenti delle persone;\n",
    "\n",
    "\n",
    "\n",
    "Sarà necessario importare le seguenti librerie: *numpy*, *scipy*, *matplot*. Di seguito vengono importate:\n"
   ]
  },
  {
   "cell_type": "code",
   "execution_count": 15,
   "metadata": {},
   "outputs": [],
   "source": [
    "import numpy as np                                  # libreria matematica\n",
    "import scipy as sp\n",
    "import matplotlib.pyplot as plt                     # librerie grafiche\n",
    "import matplotlib.colors as mcolors\n",
    "\n",
    "from scipy.integrate import odeint                  # altra libreria matematica    odeint e' per integrare le equazioni\n"
   ]
  },
  {
   "cell_type": "markdown",
   "metadata": {},
   "source": [
    "## Definiamo i parametri\n",
    "Sia $n$ = *numero città* considerate, $NEQ$ **= *numero equazioni per città*** .\n",
    "\n",
    "Allora il numero totale di equazioni che comporranno il sistema sarà $nNEQ$.\n",
    "\n",
    "\n",
    "Per adesso ci limitiamo ad assegnare un valore fissato ad ognuno dei parametri:"
   ]
  },
  {
   "cell_type": "code",
   "execution_count": 23,
   "metadata": {},
   "outputs": [
    {
     "name": "stdout",
     "output_type": "stream",
     "text": [
      "1.1760000000000002\n"
     ]
    }
   ],
   "source": [
    "NEQ = 4         #numero equazioni\n",
    "n = 1           #numero città\n",
    "\n",
    "# fissiamo i parametri\n",
    "beta = 1.12\n",
    "mu = 0.5\n",
    "alfa = 0.5\n",
    "Z = 5                    #days\n",
    "D = 1.4                  #days\n",
    "teta = 1.1\n",
    "\n",
    "Ro = alfa*beta*D + ( 1 - alfa )*mu*beta*D   \n",
    "print(Ro)"
   ]
  },
  {
   "cell_type": "markdown",
   "metadata": {},
   "source": [
    "# Utilizziamo Runge-Kutta del 4° ordine"
   ]
  },
  {
   "cell_type": "markdown",
   "metadata": {},
   "source": [
    "## Definiamo la funzione *RK4*\n",
    "\n",
    "### 1) Definisco una funzione *campo vettoriale* utile per integrare con *RK4*:"
   ]
  },
  {
   "cell_type": "code",
   "execution_count": 24,
   "metadata": {},
   "outputs": [],
   "source": [
    "#funzione campo vettoriale per RK4\n",
    "\n",
    "def f(x, K, N, n, NEQ) :\n",
    "   \n",
    "  \n",
    "        \n",
    "############################################ COSTRUISCO TUTTI GLI U ######################################################\n",
    "\n",
    "    U1  = np.zeros(NEQ + 1)\n",
    "    U2  = np.zeros(NEQ + 1)\n",
    "    U3s  = np.zeros(NEQ + 1)\n",
    "    U4s  = np.zeros(NEQ + 1)\n",
    "    U5  = np.zeros(NEQ + 1)\n",
    "    U6  = np.zeros(NEQ + 1)         # Spazio allocato per tutte le variabili\n",
    "    U7s  = np.zeros(NEQ + 1)\n",
    "    U8s  = np.zeros(NEQ + 1)\n",
    "    U9  = np.zeros(NEQ + 1)\n",
    "    U10 = np.zeros(NEQ + 1)\n",
    "    U11s = np.zeros(NEQ + 1)\n",
    "    U12s = np.zeros(NEQ + 1)\n",
    "    \n",
    "    for i in range(1, n + 1):\n",
    "        \n",
    "    \n",
    " \n",
    "        \n",
    "        U1  = (beta*X[i][1]*X[i][3])/N[i]\n",
    "        U2  = (mu*beta*X[i][1]*X[i][4])/N[1]\n",
    "        U5  = alfa*X[i][2] / Z\n",
    "        U6  = (1 - alfa)* X[i][2] / Z                          # costruisco gli U rimanenti\n",
    "        U9  = X[i][3] / D\n",
    "        U10 = X[i][4] / D\n",
    "\n",
    "###################################### SOMMO GLI U PER FORMARE LE EQUAZIONI ############################################\n",
    "        \n",
    "        K[i][1] = - U1 - U2 \n",
    "        K[i][2] = U1 + U2 - U5 - U6 \n",
    "        K[i][3] = U5 - U9\n",
    "        K[i][4] = U6 - U10 \n",
    " \n",
    "    return K, N"
   ]
  },
  {
   "cell_type": "markdown",
   "metadata": {},
   "source": [
    "### 2) Definiamo la vera e propria funzione *RK4*:\n",
    "\n",
    "**ATTENZIONE: stiamo considerando una integrazione con passo  1 giorno**"
   ]
  },
  {
   "cell_type": "code",
   "execution_count": 25,
   "metadata": {},
   "outputs": [],
   "source": [
    "# h è il passo di integrazione #\n",
    "\n",
    "h = 1.0   #Integrazione con passo 1 giorno\n",
    "\n",
    "########################################    FUNZIONE RK4    ###################################################################\n",
    "\n",
    "def RK4(X, N, h, n, NEQ):\n",
    "    \n",
    "    X2 = np.zeros((n + 1, NEQ + 1))                 #spazio allocato\n",
    "    k1 = np.zeros((n + 1, NEQ + 1))\n",
    "    k2 = np.zeros((n + 1, NEQ + 1))\n",
    "    k3 = np.zeros((n + 1, NEQ + 1))\n",
    "    k4 = np.zeros((n + 1, NEQ + 1))\n",
    "    \n",
    "##  STEP 1\n",
    "        \n",
    "    for i in range(1, n + 1):\n",
    "        for j in range(1, NEQ + 1):\n",
    "            X2[i][j] = X[i][j]                 #copio in X2 i dati iniziali\n",
    "            \n",
    "    f(X2, k1, N, n, NEQ)\n",
    "    \n",
    "##  STEP 2\n",
    "        \n",
    "    for i in range(1, n + 1):                   \n",
    "        for j in range(1, NEQ + 1):\n",
    "            X2[i][j] = X[i][j] + k1[i][j] * h/2                     \n",
    "    f(X2, k2, N, n, NEQ)\n",
    "    \n",
    "##  STEP 3\n",
    "        \n",
    "    for i in range(1, n + 1):\n",
    "        for j in range(1, NEQ + 1):\n",
    "            X2[i][j] = X[i][j] + k2[i][j] * h/2           \n",
    "    f(X2, k3, N, n, NEQ)\n",
    "    \n",
    "##  STEP 4\n",
    "\n",
    "    for i in range(1, n + 1):\n",
    "        for j in range(1, NEQ + 1):\n",
    "            X2[i][j] = X[i][j] + k2[i][j] * h/2           \n",
    "    f(X2, k4, N, n, NEQ)\n",
    "\n",
    "##  STEP 5\n",
    "\n",
    "    for i in range(1, n + 1):\n",
    "        for j in range(1, NEQ + 1):\n",
    "            X[i][j] = X[i][j] + h * ( k1[i][j] /6 +  k2[i][j] / 3 +  k3[i][j] /3 + k4[i][j] /6)   \n",
    "            \n",
    "    return"
   ]
  },
  {
   "cell_type": "markdown",
   "metadata": {},
   "source": [
    "## Integriamo con RK4:\n",
    "### Dati iniziali ed effettiva integrazione"
   ]
  },
  {
   "cell_type": "code",
   "execution_count": 26,
   "metadata": {},
   "outputs": [],
   "source": [
    "#numero iniziale di abitanti nelle città\n",
    "N0 = np.array([0, 5001.])\n",
    "\n",
    "#vettore con tutte le componenti del sistema:\n",
    "X = np.zeros((n + 1, NEQ + 1))                        #LEGENDA:  S = [][1] ; E = [][2] ; Ir = [][3] ; Iu = [][4]\n",
    "\n",
    "#dati iniziali\n",
    "X[1][1] = 5000.      # S1 = 5000\n",
    "X[1][4] = 100.         # I1u = 1  \n",
    "\n",
    "\n",
    "#intervallo di tempo su cui integrare\n",
    "ndays = 500\n",
    "t = np.linspace(0, ndays -1 , ndays)\n",
    "\n",
    "# definisco le liste che conterranno i risultati dell'integrazione\n",
    "S1  = X[1][1]\n",
    "E1  = X[1][2]\n",
    "I1r = X[1][3]\n",
    "I1u = X[1][4]\n",
    "\n",
    "\n",
    "\n",
    "# effettiva integrazione  \n",
    "for r in range(1,len(t)):     # uso len(t) perchè altrimenti farei un passo di integrazione in più\n",
    "    RK4(X, N0, h, n, NEQ)\n",
    "\n",
    "    S1  = np.append(S1,X[1][1])\n",
    "    E1  = np.append(E1,X[1][2])\n",
    "    I1r = np.append(I1r,X[1][3])\n",
    "    I1u = np.append(I1u,X[1][4])\n",
    "\n",
    "  \n"
   ]
  },
  {
   "cell_type": "markdown",
   "metadata": {},
   "source": [
    "## GRAFICI\n",
    "### Grafici città 1"
   ]
  },
  {
   "cell_type": "code",
   "execution_count": 27,
   "metadata": {
    "scrolled": true
   },
   "outputs": [
    {
     "data": {
      "image/png": "[encoded data removed]",
      "text/plain": [
       "<Figure size 1440x720 with 1 Axes>"
      ]
     },
     "metadata": {
      "needs_background": "light"
     },
     "output_type": "display_data"
    }
   ],
   "source": [
    "plt.figure(figsize=(20,10))   # dimensione della figura\n",
    "\n",
    "plt.plot(t, S1 ,'k',linewidth=1.5, label='S1')    \n",
    "plt.plot(t, E1,'r-',linewidth=1.5, label='E1')   \n",
    "plt.plot(t, I1r,'g-',linewidth=1.5, label='I1r')\n",
    "plt.plot(t, I1u,'b-',linewidth=1.5, label='I1u')\n",
    "\n",
    "plt.xlabel('t')\n",
    "plt.ylabel('CITTA 1')\n",
    "plt.title('ANDAMENTI CITTA 1')\n",
    "plt.grid(True)\n",
    "plt.legend()\n",
    "\n",
    "plt.show()"
   ]
  },
  {
   "cell_type": "code",
   "execution_count": null,
   "metadata": {},
   "outputs": [],
   "source": []
  }
 ],
 "metadata": {
  "kernelspec": {
   "display_name": "Python 3",
   "language": "python",
   "name": "python3"
  },
  "language_info": {
   "codemirror_mode": {
    "name": "ipython",
    "version": 3
   },
   "file_extension": ".py",
   "mimetype": "text/x-python",
   "name": "python",
   "nbconvert_exporter": "python",
   "pygments_lexer": "ipython3",
   "version": "3.7.4"
  },
  "widgets": {
   "state": {
    "8a1d0b8c6abe475cbc296ab944a8b66d": {
     "views": [
      {
       "cell_index": 10
      }
     ]
    }
   },
   "version": "1.2.0"
  }
 },
 "nbformat": 4,
 "nbformat_minor": 2
}
